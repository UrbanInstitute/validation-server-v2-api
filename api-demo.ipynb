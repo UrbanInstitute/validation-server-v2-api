{
 "cells": [
  {
   "cell_type": "markdown",
   "metadata": {},
   "source": [
    "### setup"
   ]
  },
  {
   "cell_type": "code",
   "execution_count": null,
   "metadata": {},
   "outputs": [],
   "source": [
    "import json\n",
    "import requests\n",
    "import uuid\n",
    "\n",
    "# url_base = \"https://sdt-validation-server.urban.org/api\"\n",
    "url_base = \"http://0.0.0.0:8000/api\"\n",
    "url_stub = f\"{url_base}\" "
   ]
  },
  {
   "cell_type": "code",
   "execution_count": null,
   "metadata": {},
   "outputs": [],
   "source": [
    "user_account = {\n",
    "    \"email\": \"<email>\",\n",
    "    \"password\": \"<password>\"\n",
    "}\n",
    "\n",
    "r = requests.post(f\"{url_base}/users/login/\", data=user_account)"
   ]
  },
  {
   "cell_type": "code",
   "execution_count": null,
   "metadata": {},
   "outputs": [],
   "source": [
    "print(r.status_code)\n",
    "print(r.reason)\n",
    "print(r.text)\n",
    "\n",
    "user_token = r.json()[\"token\"]\n",
    "print(user_token)\n",
    "\n",
    "headers = {\"Authorization\": f\"Token {user_token}\"}"
   ]
  },
  {
   "cell_type": "markdown",
   "metadata": {},
   "source": [
    "### /api/job/"
   ]
  },
  {
   "cell_type": "markdown",
   "metadata": {},
   "source": [
    "#### submit new job"
   ]
  },
  {
   "cell_type": "code",
   "execution_count": null,
   "metadata": {},
   "outputs": [],
   "source": [
    "files = {'script': open('R-scripts/cps-multi.R', 'rb')}\n",
    "\n",
    "payload = {\n",
    "    \"title\": \"Example job\",\n",
    "    \"dataset_id\": \"cps\",\n",
    "}\n",
    "\n",
    "r = requests.post(f\"{url_stub}/job/jobs/\", headers=headers, files=files, data=payload)"
   ]
  },
  {
   "cell_type": "code",
   "execution_count": null,
   "metadata": {},
   "outputs": [],
   "source": [
    "print(r.status_code)\n",
    "print(r.reason)\n",
    "print(r.text)\n",
    "\n",
    "for key, value in r.json().items():\n",
    "    print(key, value)\n",
    "\n",
    "job_id_str = r.json()[\"id\"]\n",
    "job_id = uuid.UUID(r.json()[\"id\"])"
   ]
  },
  {
   "cell_type": "markdown",
   "metadata": {},
   "source": [
    "#### list all jobs"
   ]
  },
  {
   "cell_type": "code",
   "execution_count": null,
   "metadata": {},
   "outputs": [],
   "source": [
    "r = requests.get(f\"{url_stub}/job/jobs/\", headers=headers)\n",
    "\n",
    "print(r.status_code)\n",
    "print(r.reason)\n",
    "print(r.text)\n",
    "\n",
    "for item in r.json():\n",
    "    print(item)"
   ]
  },
  {
   "cell_type": "code",
   "execution_count": null,
   "metadata": {},
   "outputs": [],
   "source": [
    "job_id = \"4683a70d-50dc-47f9-8d29-ae2647be8305\""
   ]
  },
  {
   "cell_type": "markdown",
   "metadata": {},
   "source": [
    "#### retrieve particular job"
   ]
  },
  {
   "cell_type": "code",
   "execution_count": null,
   "metadata": {},
   "outputs": [],
   "source": [
    "r = requests.get(f\"{url_stub}/job/jobs/{job_id}/\", headers=headers)\n",
    "\n",
    "print(r.status_code)\n",
    "print(r.reason)\n",
    "print(r.text)\n",
    "\n",
    "for key, value in r.json().items():\n",
    "    print(key, value)"
   ]
  },
  {
   "cell_type": "markdown",
   "metadata": {},
   "source": [
    "#### check status of run"
   ]
  },
  {
   "cell_type": "code",
   "execution_count": null,
   "metadata": {},
   "outputs": [],
   "source": [
    "run_id = 1\n",
    "\n",
    "r = requests.get(f\"{url_stub}/job/jobs/{job_id}/runs/{run_id}\", headers=headers)\n",
    "\n",
    "print(r.status_code)\n",
    "print(r.reason)\n",
    "for key, value in r.json().items():\n",
    "    print(key, value)"
   ]
  },
  {
   "cell_type": "markdown",
   "metadata": {},
   "source": [
    "#### retrieve runs for job\n"
   ]
  },
  {
   "cell_type": "code",
   "execution_count": null,
   "metadata": {},
   "outputs": [],
   "source": [
    "r = requests.get(f\"{url_stub}/job/jobs/{job_id}/runs/\", headers=headers)\n",
    "\n",
    "print(r.status_code)\n",
    "print(r.reason)\n",
    "\n",
    "for item in r.json():\n",
    "    print(item)"
   ]
  },
  {
   "cell_type": "markdown",
   "metadata": {},
   "source": [
    "#### retrieve results for run"
   ]
  },
  {
   "cell_type": "code",
   "execution_count": null,
   "metadata": {},
   "outputs": [],
   "source": [
    "r = requests.get(f\"{url_stub}/job/jobs/{job_id}/runs/{run_id}/get-csv-results/\", headers=headers)\n",
    "\n",
    "print(r.status_code)\n",
    "print(r.reason)\n",
    "print(r.text)"
   ]
  },
  {
   "cell_type": "markdown",
   "metadata": {},
   "source": [
    "#### post a refinement"
   ]
  },
  {
   "cell_type": "code",
   "execution_count": null,
   "metadata": {},
   "outputs": [],
   "source": [
    "payload = {\n",
    "    \"refined\": [\n",
    "        {\"statistic_id\": 6, \"epsilon\": 0.1},\n",
    "        {\"statistic_id\": 7, \"epsilon\": 0.1}\n",
    "    ]\n",
    "}\n",
    "run_id = 2\n",
    "payload = json.dumps(payload).encode()\n",
    "headers[\"Content-Type\"] = \"application/json\"\n",
    "r = requests.post(f\"{url_stub}/job/jobs/{job_id}/runs/{run_id}/refine/\", headers=headers, data=payload)\n",
    "\n",
    "print(r.status_code)\n",
    "print(r.reason)\n",
    "for key, value in r.json().items():\n",
    "    print(key, value)"
   ]
  },
  {
   "cell_type": "markdown",
   "metadata": {},
   "source": [
    "#### retrieve analyses for run"
   ]
  },
  {
   "cell_type": "code",
   "execution_count": null,
   "metadata": {},
   "outputs": [],
   "source": [
    "r = requests.get(f\"{url_stub}/job/jobs/{job_id}/runs/{run_id}/get-analyses/\", headers=headers)\n",
    "\n",
    "print(r.status_code)\n",
    "print(r.reason)\n",
    "print(r.text)"
   ]
  },
  {
   "cell_type": "markdown",
   "metadata": {},
   "source": [
    "#### release results"
   ]
  },
  {
   "cell_type": "code",
   "execution_count": null,
   "metadata": {},
   "outputs": [],
   "source": [
    "payload = {\n",
    "    \"analysis_ids\": [1]\n",
    "}\n",
    "payload = json.dumps(payload).encode()\n",
    "headers[\"Content-Type\"] = \"application/json\"\n",
    "r = requests.post(f\"{url_stub}/job/jobs/{job_id}/runs/{run_id}/release/\", headers=headers, data=payload)\n",
    "\n",
    "print(r.status_code)\n",
    "print(r.reason)"
   ]
  },
  {
   "cell_type": "markdown",
   "metadata": {},
   "source": [
    "#### get released results"
   ]
  },
  {
   "cell_type": "code",
   "execution_count": null,
   "metadata": {},
   "outputs": [],
   "source": [
    "r = requests.get(f\"{url_stub}/job/jobs/{job_id}/runs/{run_id}/get-released-csv-results/\", headers=headers)\n",
    "\n",
    "print(r.status_code)\n",
    "print(r.reason)\n",
    "print(r.text)"
   ]
  },
  {
   "cell_type": "markdown",
   "metadata": {},
   "source": [
    "### /api/budget"
   ]
  },
  {
   "cell_type": "markdown",
   "metadata": {},
   "source": [
    "#### retrieve current budget of user"
   ]
  },
  {
   "cell_type": "code",
   "execution_count": null,
   "metadata": {},
   "outputs": [],
   "source": [
    "r = requests.get(f\"{url_stub}/budget/budget/\", headers=headers)\n",
    "\n",
    "print(r.status_code)\n",
    "print(r.reason)\n",
    "print(r.text)"
   ]
  }
 ],
 "metadata": {
  "interpreter": {
   "hash": "aee8b7b246df8f9039afb4144a1f6fd8d2ca17a180786b69acc140d282b71a49"
  },
  "kernelspec": {
   "display_name": "Python 3 (ipykernel)",
   "language": "python",
   "name": "python3"
  },
  "language_info": {
   "codemirror_mode": {
    "name": "ipython",
    "version": 3
   },
   "file_extension": ".py",
   "mimetype": "text/x-python",
   "name": "python",
   "nbconvert_exporter": "python",
   "pygments_lexer": "ipython3",
   "version": "3.9.7"
  }
 },
 "nbformat": 4,
 "nbformat_minor": 2
}
